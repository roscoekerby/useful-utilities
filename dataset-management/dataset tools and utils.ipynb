{
 "metadata": {
  "kernelspec": {
   "language": "python",
   "display_name": "Python 3",
   "name": "python3"
  },
  "language_info": {
   "name": "python",
   "version": "3.10.14",
   "mimetype": "text/x-python",
   "codemirror_mode": {
    "name": "ipython",
    "version": 3
   },
   "pygments_lexer": "ipython3",
   "nbconvert_exporter": "python",
   "file_extension": ".py"
  },
  "kaggle": {
   "accelerator": "gpu",
   "dataSources": [
    {
     "sourceId": 9430237,
     "sourceType": "datasetVersion",
     "datasetId": 5729096
    },
    {
     "sourceId": 9537005,
     "sourceType": "datasetVersion",
     "datasetId": 5753867
    },
    {
     "sourceId": 116427,
     "sourceType": "modelInstanceVersion",
     "modelInstanceId": 97842,
     "modelId": 122036
    },
    {
     "sourceId": 116437,
     "sourceType": "modelInstanceVersion",
     "modelInstanceId": 97850,
     "modelId": 122044
    },
    {
     "sourceId": 116444,
     "sourceType": "modelInstanceVersion",
     "modelInstanceId": 97856,
     "modelId": 122048
    }
   ],
   "dockerImageVersionId": 30762,
   "isInternetEnabled": true,
   "language": "python",
   "sourceType": "notebook",
   "isGpuEnabled": true
  }
 },
 "nbformat_minor": 4,
 "nbformat": 4,
 "cells": [
  {
   "metadata": {},
   "cell_type": "markdown",
   "source": "# Dataset Utils / Tools"
  },
  {
   "metadata": {},
   "cell_type": "markdown",
   "source": "### Count images in folder"
  },
  {
   "cell_type": "code",
   "source": [
    "import os\n",
    "\n",
    "# Define the directory containing the images\n",
    "directory = '/kaggle/working/cropped_sweetspot_images'\n",
    "\n",
    "# Supported image extensions\n",
    "image_extensions = ('.png', '.jpg', '.jpeg')\n",
    "\n",
    "# Initialize a counter for images\n",
    "image_count = 0\n",
    "\n",
    "# Use os.walk to traverse directories and subdirectories\n",
    "for root, dirs, files in os.walk(directory):\n",
    "    # Loop through each file in the current directory\n",
    "    for file in files:\n",
    "        if file.endswith(image_extensions):\n",
    "            image_count += 1\n",
    "\n",
    "# Print the total count of images\n",
    "print(f\"Total number of images in the folder and subfolders: {image_count}\")"
   ],
   "metadata": {
    "execution": {
     "iopub.status.busy": "2024-10-03T12:03:07.972523Z",
     "iopub.status.idle": "2024-10-03T12:03:07.972863Z",
     "shell.execute_reply.started": "2024-10-03T12:03:07.972691Z",
     "shell.execute_reply": "2024-10-03T12:03:07.972709Z"
    },
    "trusted": true
   },
   "execution_count": null,
   "outputs": []
  },
  {
   "cell_type": "markdown",
   "source": "### Find Substring in directory files",
   "metadata": {}
  },
  {
   "cell_type": "code",
   "source": [
    "import os\n",
    "\n",
    "# Define directory for preprocessed images\n",
    "preprocessed_dir = '/kaggle/working/cropped_muzzle_images'\n",
    "\n",
    "# Define the substring to search for\n",
    "substring = 'classified'  # Replace with your specific substring\n",
    "\n",
    "# Initialize count\n",
    "count = 0\n",
    "\n",
    "# Iterate through all files in the directory\n",
    "for filename in os.listdir(preprocessed_dir):\n",
    "    if filename.endswith(('.png', '.jpg', '.jpeg')) and substring in filename:\n",
    "        count += 1\n",
    "\n",
    "# Print the count\n",
    "print(f\"Number of files containing '{substring}' in the filename: {count}\")\n"
   ],
   "metadata": {
    "execution": {
     "iopub.status.busy": "2024-10-03T12:03:07.973828Z",
     "iopub.status.idle": "2024-10-03T12:03:07.974196Z",
     "shell.execute_reply.started": "2024-10-03T12:03:07.973991Z",
     "shell.execute_reply": "2024-10-03T12:03:07.974008Z"
    },
    "trusted": true
   },
   "execution_count": null,
   "outputs": []
  },
  {
   "cell_type": "markdown",
   "source": "### Delete Directory Contents",
   "metadata": {}
  },
  {
   "cell_type": "code",
   "source": [
    "import os\n",
    "\n",
    "# Directory containing preprocessed images\n",
    "preprocessed_dir = '/kaggle/working/preprocessed_sweetspot_images'\n",
    "\n",
    "# Check if directory exists\n",
    "if os.path.exists(preprocessed_dir):\n",
    "    # Iterate through the files in the directory and remove them\n",
    "    for filename in os.listdir(preprocessed_dir):\n",
    "        file_path = os.path.join(preprocessed_dir, filename)\n",
    "        try:\n",
    "            if os.path.isfile(file_path):\n",
    "                os.remove(file_path)\n",
    "                print(f\"Removed file: {file_path}\")\n",
    "        except Exception as e:\n",
    "            print(f\"Error removing {file_path}: {e}\")\n",
    "else:\n",
    "    print(f\"Directory {preprocessed_dir} does not exist.\")\n"
   ],
   "metadata": {
    "execution": {
     "iopub.status.busy": "2024-10-03T12:03:07.975317Z",
     "iopub.status.idle": "2024-10-03T12:03:07.975684Z",
     "shell.execute_reply.started": "2024-10-03T12:03:07.975505Z",
     "shell.execute_reply": "2024-10-03T12:03:07.975523Z"
    },
    "trusted": true
   },
   "execution_count": null,
   "outputs": []
  },
  {
   "cell_type": "markdown",
   "source": "#### Get Classes with Multiple Images",
   "metadata": {}
  },
  {
   "cell_type": "code",
   "source": [
    "import os\n",
    "from collections import defaultdict\n",
    "\n",
    "# Define directory for preprocessed images\n",
    "preprocessed_dir = '/kaggle/working/preprocessed_sweetspot_images'\n",
    "\n",
    "# Supported image extensions\n",
    "image_extensions = ('.png', '.jpg', '.jpeg')\n",
    "\n",
    "# Initialize a dictionary to count the number of images per class\n",
    "class_image_count = defaultdict(list)\n",
    "\n",
    "# Iterate through all files in the directory\n",
    "for filename in os.listdir(preprocessed_dir):\n",
    "    if filename.endswith(image_extensions):\n",
    "        # Extract the class from the filename (assuming it's the part between 'cropped_muzzle_0_' and '_Danies_Farm')\n",
    "        parts = filename.split('_')\n",
    "        if len(parts) >= 7:\n",
    "            class_id = parts[7]  # Extract the class part (for example: clw210021)\n",
    "            class_image_count[class_id].append(filename)\n",
    "\n",
    "# Get the list of unique classes\n",
    "unique_classes = list(class_image_count.keys())\n",
    "\n",
    "# Get the list of classes with more than one image\n",
    "classes_with_multiple_images = {cls: img_list for cls, img_list in class_image_count.items() if len(img_list) > 1}\n",
    "\n",
    "# Print unique classes\n",
    "print(f\"Unique classes: {unique_classes}\")\n",
    "\n",
    "# Print classes with more than one image\n",
    "print(f\"Classes with more than one image:\")\n",
    "for cls, images in classes_with_multiple_images.items():\n",
    "    print(f\"Class '{cls}' has {len(images)} images:\")\n",
    "    for image in images:\n",
    "        print(f\"    {image}\")\n"
   ],
   "metadata": {
    "execution": {
     "iopub.status.busy": "2024-10-03T12:03:07.976744Z",
     "iopub.status.idle": "2024-10-03T12:03:07.977088Z",
     "shell.execute_reply.started": "2024-10-03T12:03:07.976916Z",
     "shell.execute_reply": "2024-10-03T12:03:07.976934Z"
    },
    "trusted": true
   },
   "execution_count": null,
   "outputs": []
  }
 ]
}
