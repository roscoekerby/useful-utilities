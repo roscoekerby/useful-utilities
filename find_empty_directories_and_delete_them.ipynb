{
  "nbformat": 4,
  "nbformat_minor": 0,
  "metadata": {
    "colab": {
      "provenance": [],
      "authorship_tag": "ABX9TyMynB2XoXVYkOSIsfGw4d3o",
      "include_colab_link": true
    },
    "kernelspec": {
      "name": "python3",
      "display_name": "Python 3"
    },
    "language_info": {
      "name": "python"
    }
  },
  "cells": [
    {
      "cell_type": "markdown",
      "metadata": {
        "id": "view-in-github",
        "colab_type": "text"
      },
      "source": [
        "<a href=\"https://colab.research.google.com/github/roscoekerby/useful-utilities/blob/main/find_empty_directories_and_delete_them.ipynb\" target=\"_parent\"><img src=\"https://colab.research.google.com/assets/colab-badge.svg\" alt=\"Open In Colab\"/></a>"
      ]
    },
    {
      "cell_type": "markdown",
      "source": [
        "MOUNT GOOGLE DRIVE"
      ],
      "metadata": {
        "id": "11yBj4LJE4qp"
      }
    },
    {
      "cell_type": "code",
      "source": [
        "from google.colab import drive\n",
        "drive.mount('/content/drive', force_remount=True)"
      ],
      "metadata": {
        "colab": {
          "base_uri": "https://localhost:8080/"
        },
        "id": "1EITOihgkukb",
        "outputId": "cb23cacc-8024-4d4a-9f7c-83fbe30088ff"
      },
      "execution_count": null,
      "outputs": [
        {
          "output_type": "stream",
          "name": "stdout",
          "text": [
            "Mounted at /content/drive\n"
          ]
        }
      ]
    },
    {
      "cell_type": "markdown",
      "source": [
        "FIND EMPTY DIRECTORIES"
      ],
      "metadata": {
        "id": "3lsZX1KuE8uy"
      }
    },
    {
      "cell_type": "code",
      "source": [
        "import os\n",
        "\n",
        "# Find all empty directories under this root folder (CHANGE TO YOUR ABSOLUTE DIRECTORY PATH)\n",
        "root_dir = ''\n",
        "\n",
        "empty_directories_list = []\n",
        "\n",
        "walk = list(os.walk(root_dir))\n",
        "\n",
        "for path, _, _ in walk[::-1]:\n",
        "    if len(os.listdir(path)) == 0:\n",
        "        empty_directories_list.append(path)\n",
        "\n",
        "print(\"Empty directories:\\n\", empty_directories_list)"
      ],
      "metadata": {
        "id": "Lab7FkhClJDJ",
        "colab": {
          "base_uri": "https://localhost:8080/"
        },
        "outputId": "1bc3f516-a0b8-40b5-cd9b-4cf3f0bd60e8"
      },
      "execution_count": null,
      "outputs": [
        {
          "output_type": "stream",
          "name": "stdout",
          "text": [
            "Empty directories:\n",
            " []\n"
          ]
        }
      ]
    },
    {
      "cell_type": "markdown",
      "source": [
        "REMOVE EMPTY DIRECTORIES"
      ],
      "metadata": {
        "id": "Z-JTF5LoGp-4"
      }
    },
    {
      "cell_type": "code",
      "source": [
        "for ed in empty_directories_list:\n",
        "  os.rmdir(ed)"
      ],
      "metadata": {
        "id": "OSddLclUtlgs"
      },
      "execution_count": null,
      "outputs": []
    }
  ]
}