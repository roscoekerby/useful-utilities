{
  "nbformat": 4,
  "nbformat_minor": 0,
  "metadata": {
    "colab": {
      "provenance": [],
      "authorship_tag": "ABX9TyORq15dqgTBe2R/KofjjiMK",
      "include_colab_link": true
    },
    "kernelspec": {
      "name": "python3",
      "display_name": "Python 3"
    },
    "language_info": {
      "name": "python"
    }
  },
  "cells": [
    {
      "cell_type": "markdown",
      "metadata": {
        "id": "view-in-github",
        "colab_type": "text"
      },
      "source": [
        "<a href=\"https://colab.research.google.com/github/roscoekerby/useful-utilities/blob/main/find_empty_directories_and_delete_them.ipynb\" target=\"_parent\"><img src=\"https://colab.research.google.com/assets/colab-badge.svg\" alt=\"Open In Colab\"/></a>"
      ]
    },
    {
      "cell_type": "markdown",
      "source": [
        "MOUNT GOOGLE DRIVE"
      ],
      "metadata": {
        "id": "11yBj4LJE4qp"
      }
    },
    {
      "cell_type": "code",
      "source": [
        "from google.colab import drive\n",
        "drive.mount('/content/drive', force_remount=True)"
      ],
      "metadata": {
        "colab": {
          "base_uri": "https://localhost:8080/"
        },
        "id": "1EITOihgkukb",
        "outputId": "cb23cacc-8024-4d4a-9f7c-83fbe30088ff"
      },
      "execution_count": null,
      "outputs": [
        {
          "output_type": "stream",
          "name": "stdout",
          "text": [
            "Mounted at /content/drive\n"
          ]
        }
      ]
    },
    {
      "cell_type": "markdown",
      "source": [
        "FIND EMPTY DIRECTORIES"
      ],
      "metadata": {
        "id": "3lsZX1KuE8uy"
      }
    },
    {
      "cell_type": "code",
      "source": [
        "import os\n",
        "import time\n",
        "\n",
        "# Find all empty directories under this root folder\n",
        "root_dir = ''\n",
        "\n",
        "empty_directories_list = []\n",
        "\n",
        "walk = list(os.walk(root_dir))\n",
        "for path, _, _ in walk[::-1]:\n",
        "    if len(os.listdir(path)) == 0:\n",
        "        empty_directories_list.append(path)\n",
        "\n",
        "print(\"Empty directories:\\n\", empty_directories_list)"
      ],
      "metadata": {
        "id": "Lab7FkhClJDJ",
        "colab": {
          "base_uri": "https://localhost:8080/"
        },
        "outputId": "50530207-a043-4a74-82f4-76c53ffe2949"
      },
      "execution_count": 7,
      "outputs": [
        {
          "output_type": "stream",
          "name": "stdout",
          "text": [
            "Empty directories:\n",
            " ['/content/drive/MyDrive/The Data Company/ID Scan/Cows/query', '/content/drive/MyDrive/The Data Company/ID Scan/Cows/idscan_cows_27/190106/551015', '/content/drive/MyDrive/The Data Company/ID Scan/Cows/idscan_cows_27/190106/1891', '/content/drive/MyDrive/The Data Company/ID Scan/Cows/idscan_cows_27/190106/19598', '/content/drive/MyDrive/The Data Company/ID Scan/Cows/idscan_models/03-01-2023_14:28:56/assets', '/content/drive/MyDrive/The Data Company/ID Scan/Cows/idscan_models/03-01-2023_11:35:34/assets', '/content/drive/MyDrive/The Data Company/ID Scan/Cows/idscan_models/03-01-2023_09:55:21/assets', '/content/drive/MyDrive/The Data Company/ID Scan/Cows/idscan_models/03-01-2023_08:42:32/assets', '/content/drive/MyDrive/The Data Company/ID Scan/Cows/idscan_models/03-01-2023_07:33:29/assets', '/content/drive/MyDrive/The Data Company/ID Scan/Cows/idscan_models/30-12-2022_12:24:42/assets', '/content/drive/MyDrive/The Data Company/ID Scan/Cows/idscan_models/30-12-2022_07:38:56', '/content/drive/MyDrive/The Data Company/ID Scan/Cows/idscan_models/29-12-2022_23:10:10', '/content/drive/MyDrive/The Data Company/ID Scan/Cows/idscan_models/29-12-2022_15:56:05', '/content/drive/MyDrive/The Data Company/ID Scan/Cows/idscan_datasets-20221222T075901Z-001/idscan_datasets/test/Princes', '/content/drive/MyDrive/The Data Company/ID Scan/Cows/idscan_datasets-20221222T075901Z-001/idscan_datasets/test/MAR220014', '/content/drive/MyDrive/The Data Company/ID Scan/Cows/idscan_datasets-20221222T075901Z-001/idscan_datasets/test/ore', '/content/drive/MyDrive/The Data Company/ID Scan/Cows/idscan_datasets-20221222T075901Z-001/idscan_datasets/test/MAR220006', '/content/drive/MyDrive/The Data Company/ID Scan/Cows/idscan_datasets-20221222T075901Z-001/idscan_datasets/test/Steer', '/content/drive/MyDrive/The Data Company/ID Scan/Cows/idscan_datasets-20221222T075901Z-001/idscan_datasets/test/drakensberger', '/content/drive/MyDrive/The Data Company/ID Scan/Cows/idscan_datasets-20221222T075901Z-001/idscan_datasets/test/702015', '/content/drive/MyDrive/The Data Company/ID Scan/Cows/idscan_datasets-20221222T075901Z-001/idscan_datasets/test/bertha', '/content/drive/MyDrive/The Data Company/ID Scan/Cows/idscan_datasets-20221222T075901Z-001/idscan_datasets/test/MAR19B27', '/content/drive/MyDrive/The Data Company/ID Scan/Cows/idscan_datasets-20221222T075901Z-001/idscan_datasets/test/MAR21B27', '/content/drive/MyDrive/The Data Company/ID Scan/Cows/idscan_datasets-20221222T075901Z-001/idscan_datasets/test/jersy', '/content/drive/MyDrive/The Data Company/ID Scan/Cows/idscan_datasets-20221222T075901Z-001/idscan_datasets/test/kirsteins', '/content/drive/MyDrive/The Data Company/ID Scan/Cows/idscan_datasets-20221222T075901Z-001/idscan_datasets/test/MAR210011', '/content/drive/MyDrive/The Data Company/ID Scan/Cows/idscan_datasets-20221222T075901Z-001/idscan_datasets/test/Beauty', '/content/drive/MyDrive/The Data Company/ID Scan/Cows/idscan_datasets-20221222T075901Z-001/idscan_datasets/test/MAR20B27', '/content/drive/MyDrive/The Data Company/ID Scan/Cows/idscan_datasets-20221222T075901Z-001/idscan_datasets/test/21002', '/content/drive/MyDrive/The Data Company/ID Scan/Cows/idscan_datasets-20221222T075901Z-001/idscan_datasets/test/210011', '/content/drive/MyDrive/The Data Company/ID Scan/Cows/idscan_datasets-20221222T075901Z-001/idscan_datasets/test/220107', '/content/drive/MyDrive/The Data Company/ID Scan/Cows/idscan_datasets-20221222T075901Z-001/idscan_datasets/test/551015', '/content/drive/MyDrive/The Data Company/ID Scan/Cows/idscan_datasets-20221222T075901Z-001/idscan_datasets/test/210100', '/content/drive/MyDrive/The Data Company/ID Scan/Cows/idscan_datasets-20221222T075901Z-001/idscan_datasets/test/220100', '/content/drive/MyDrive/The Data Company/ID Scan/Cows/idscan_datasets-20221222T075901Z-001/idscan_datasets/test/228', '/content/drive/MyDrive/The Data Company/ID Scan/Cows/idscan_datasets-20221222T075901Z-001/idscan_datasets/test/21004', '/content/drive/MyDrive/The Data Company/ID Scan/Cows/idscan_datasets-20221222T075901Z-001/idscan_datasets/test/20106', '/content/drive/MyDrive/The Data Company/ID Scan/Cows/idscan_datasets-20221222T075901Z-001/idscan_datasets/test/21018', '/content/drive/MyDrive/The Data Company/ID Scan/Cows/idscan_datasets-20221222T075901Z-001/idscan_datasets/test/200110', '/content/drive/MyDrive/The Data Company/ID Scan/Cows/idscan_datasets-20221222T075901Z-001/idscan_datasets/test/19598', '/content/drive/MyDrive/The Data Company/ID Scan/Cows/idscan_datasets-20221222T075901Z-001/idscan_datasets/test/20003', '/content/drive/MyDrive/The Data Company/ID Scan/Cows/idscan_datasets-20221222T075901Z-001/idscan_datasets/test/19199', '/content/drive/MyDrive/The Data Company/ID Scan/Cows/idscan_datasets-20221222T075901Z-001/idscan_datasets/test/190114', '/content/drive/MyDrive/The Data Company/ID Scan/Cows/idscan_datasets-20221222T075901Z-001/idscan_datasets/test/20028', '/content/drive/MyDrive/The Data Company/ID Scan/Cows/idscan_datasets-20221222T075901Z-001/idscan_datasets/test/20104', '/content/drive/MyDrive/The Data Company/ID Scan/Cows/idscan_datasets-20221222T075901Z-001/idscan_datasets/test/20030', '/content/drive/MyDrive/The Data Company/ID Scan/Cows/idscan_datasets-20221222T075901Z-001/idscan_datasets/test/200108', '/content/drive/MyDrive/The Data Company/ID Scan/Cows/idscan_datasets-20221222T075901Z-001/idscan_datasets/test/20009', '/content/drive/MyDrive/The Data Company/ID Scan/Cows/idscan_datasets-20221222T075901Z-001/idscan_datasets/test/16245', '/content/drive/MyDrive/The Data Company/ID Scan/Cows/idscan_datasets-20221222T075901Z-001/idscan_datasets/test/18198', '/content/drive/MyDrive/The Data Company/ID Scan/Cows/idscan_datasets-20221222T075901Z-001/idscan_datasets/test/1891', '/content/drive/MyDrive/The Data Company/ID Scan/Cows/idscan_datasets-20221222T075901Z-001/idscan_datasets/test/1861', '/content/drive/MyDrive/The Data Company/ID Scan/Cows/idscan_datasets-20221222T075901Z-001/idscan_datasets/test/16028', '/content/drive/MyDrive/The Data Company/ID Scan/Cows/idscan_datasets-20221222T075901Z-001/idscan_datasets/test/190108', '/content/drive/MyDrive/The Data Company/ID Scan/Cows/idscan_datasets-20221222T075901Z-001/idscan_datasets/test/190107', '/content/drive/MyDrive/The Data Company/ID Scan/Cows/idscan_datasets-20221222T075901Z-001/idscan_datasets/test/190101', '/content/drive/MyDrive/The Data Company/ID Scan/Cows/idscan_datasets-20221222T075901Z-001/idscan_datasets/test/15212', '/content/drive/MyDrive/The Data Company/ID Scan/Cows/idscan_datasets-20221222T075901Z-001/idscan_datasets/test/190106', '/content/drive/MyDrive/The Data Company/ID Scan/Cows/idscan_datasets-20221222T075901Z-001/idscan_datasets/test/14', '/content/drive/MyDrive/The Data Company/ID Scan/Cows/idscan_datasets-20221222T075901Z-001/idscan_datasets/train/Steer', '/content/drive/MyDrive/The Data Company/ID Scan/Cows/idscan_datasets-20221222T075901Z-001/idscan_datasets/train/jersy', '/content/drive/MyDrive/The Data Company/ID Scan/Cows/idscan_datasets-20221222T075901Z-001/idscan_datasets/train/MAR210011', '/content/drive/MyDrive/The Data Company/ID Scan/Cows/idscan_datasets-20221222T075901Z-001/idscan_datasets/train/MAR20B27', '/content/drive/MyDrive/The Data Company/ID Scan/Cows/idscan_datasets-20221222T075901Z-001/idscan_datasets/train/Princes', '/content/drive/MyDrive/The Data Company/ID Scan/Cows/idscan_datasets-20221222T075901Z-001/idscan_datasets/train/MAR220006', '/content/drive/MyDrive/The Data Company/ID Scan/Cows/idscan_datasets-20221222T075901Z-001/idscan_datasets/train/MAR21B27', '/content/drive/MyDrive/The Data Company/ID Scan/Cows/idscan_datasets-20221222T075901Z-001/idscan_datasets/train/kirsteins', '/content/drive/MyDrive/The Data Company/ID Scan/Cows/idscan_datasets-20221222T075901Z-001/idscan_datasets/train/MAR19B27', '/content/drive/MyDrive/The Data Company/ID Scan/Cows/idscan_datasets-20221222T075901Z-001/idscan_datasets/train/MAR220014', '/content/drive/MyDrive/The Data Company/ID Scan/Cows/idscan_datasets-20221222T075901Z-001/idscan_datasets/train/ore', '/content/drive/MyDrive/The Data Company/ID Scan/Cows/idscan_datasets-20221222T075901Z-001/idscan_datasets/train/220107', '/content/drive/MyDrive/The Data Company/ID Scan/Cows/idscan_datasets-20221222T075901Z-001/idscan_datasets/train/210100', '/content/drive/MyDrive/The Data Company/ID Scan/Cows/idscan_datasets-20221222T075901Z-001/idscan_datasets/train/228', '/content/drive/MyDrive/The Data Company/ID Scan/Cows/idscan_datasets-20221222T075901Z-001/idscan_datasets/train/220100', '/content/drive/MyDrive/The Data Company/ID Scan/Cows/idscan_datasets-20221222T075901Z-001/idscan_datasets/train/bertha', '/content/drive/MyDrive/The Data Company/ID Scan/Cows/idscan_datasets-20221222T075901Z-001/idscan_datasets/train/Beauty', '/content/drive/MyDrive/The Data Company/ID Scan/Cows/idscan_datasets-20221222T075901Z-001/idscan_datasets/train/drakensberger', '/content/drive/MyDrive/The Data Company/ID Scan/Cows/idscan_datasets-20221222T075901Z-001/idscan_datasets/train/551015', '/content/drive/MyDrive/The Data Company/ID Scan/Cows/idscan_datasets-20221222T075901Z-001/idscan_datasets/train/21018', '/content/drive/MyDrive/The Data Company/ID Scan/Cows/idscan_datasets-20221222T075901Z-001/idscan_datasets/train/702015', '/content/drive/MyDrive/The Data Company/ID Scan/Cows/idscan_datasets-20221222T075901Z-001/idscan_datasets/train/20106', '/content/drive/MyDrive/The Data Company/ID Scan/Cows/idscan_datasets-20221222T075901Z-001/idscan_datasets/train/200108', '/content/drive/MyDrive/The Data Company/ID Scan/Cows/idscan_datasets-20221222T075901Z-001/idscan_datasets/train/20104', '/content/drive/MyDrive/The Data Company/ID Scan/Cows/idscan_datasets-20221222T075901Z-001/idscan_datasets/train/20009', '/content/drive/MyDrive/The Data Company/ID Scan/Cows/idscan_datasets-20221222T075901Z-001/idscan_datasets/train/21004', '/content/drive/MyDrive/The Data Company/ID Scan/Cows/idscan_datasets-20221222T075901Z-001/idscan_datasets/train/200110', '/content/drive/MyDrive/The Data Company/ID Scan/Cows/idscan_datasets-20221222T075901Z-001/idscan_datasets/train/20030', '/content/drive/MyDrive/The Data Company/ID Scan/Cows/idscan_datasets-20221222T075901Z-001/idscan_datasets/train/210011', '/content/drive/MyDrive/The Data Company/ID Scan/Cows/idscan_datasets-20221222T075901Z-001/idscan_datasets/train/20028', '/content/drive/MyDrive/The Data Company/ID Scan/Cows/idscan_datasets-20221222T075901Z-001/idscan_datasets/train/21002', '/content/drive/MyDrive/The Data Company/ID Scan/Cows/idscan_datasets-20221222T075901Z-001/idscan_datasets/train/190101', '/content/drive/MyDrive/The Data Company/ID Scan/Cows/idscan_datasets-20221222T075901Z-001/idscan_datasets/train/19598', '/content/drive/MyDrive/The Data Company/ID Scan/Cows/idscan_datasets-20221222T075901Z-001/idscan_datasets/train/190114', '/content/drive/MyDrive/The Data Company/ID Scan/Cows/idscan_datasets-20221222T075901Z-001/idscan_datasets/train/1861', '/content/drive/MyDrive/The Data Company/ID Scan/Cows/idscan_datasets-20221222T075901Z-001/idscan_datasets/train/190106', '/content/drive/MyDrive/The Data Company/ID Scan/Cows/idscan_datasets-20221222T075901Z-001/idscan_datasets/train/1891', '/content/drive/MyDrive/The Data Company/ID Scan/Cows/idscan_datasets-20221222T075901Z-001/idscan_datasets/train/19199', '/content/drive/MyDrive/The Data Company/ID Scan/Cows/idscan_datasets-20221222T075901Z-001/idscan_datasets/train/190108', '/content/drive/MyDrive/The Data Company/ID Scan/Cows/idscan_datasets-20221222T075901Z-001/idscan_datasets/train/20003', '/content/drive/MyDrive/The Data Company/ID Scan/Cows/idscan_datasets-20221222T075901Z-001/idscan_datasets/train/190107', '/content/drive/MyDrive/The Data Company/ID Scan/Cows/idscan_datasets-20221222T075901Z-001/idscan_datasets/train/18198', '/content/drive/MyDrive/The Data Company/ID Scan/Cows/idscan_datasets-20221222T075901Z-001/idscan_datasets/train/15212', '/content/drive/MyDrive/The Data Company/ID Scan/Cows/idscan_datasets-20221222T075901Z-001/idscan_datasets/train/16028', '/content/drive/MyDrive/The Data Company/ID Scan/Cows/idscan_datasets-20221222T075901Z-001/idscan_datasets/train/14', '/content/drive/MyDrive/The Data Company/ID Scan/Cows/idscan_datasets-20221222T075901Z-001/idscan_datasets/train/16245', '/content/drive/MyDrive/The Data Company/ID Scan/Cows/idscan_cows-20221222T075855Z-001/idscan_cows/ore', '/content/drive/MyDrive/The Data Company/ID Scan/Cows/idscan_cows-20221222T075855Z-001/idscan_cows/MAR21B27', '/content/drive/MyDrive/The Data Company/ID Scan/Cows/idscan_cows-20221222T075855Z-001/idscan_cows/MAR220014', '/content/drive/MyDrive/The Data Company/ID Scan/Cows/idscan_cows-20221222T075855Z-001/idscan_cows/Steer', '/content/drive/MyDrive/The Data Company/ID Scan/Cows/idscan_cows-20221222T075855Z-001/idscan_cows/MAR220006', '/content/drive/MyDrive/The Data Company/ID Scan/Cows/idscan_cows-20221222T075855Z-001/idscan_cows/MAR20B27', '/content/drive/MyDrive/The Data Company/ID Scan/Cows/idscan_cows-20221222T075855Z-001/idscan_cows/Princes', '/content/drive/MyDrive/The Data Company/ID Scan/Cows/idscan_cows-20221222T075855Z-001/idscan_cows/MAR210011', '/content/drive/MyDrive/The Data Company/ID Scan/Cows/idscan_cows-20221222T075855Z-001/idscan_cows/MAR19B27', '/content/drive/MyDrive/The Data Company/ID Scan/Cows/idscan_cows-20221222T075855Z-001/idscan_cows/kirsteins', '/content/drive/MyDrive/The Data Company/ID Scan/Cows/idscan_cows-20221222T075855Z-001/idscan_cows/702015', '/content/drive/MyDrive/The Data Company/ID Scan/Cows/idscan_cows-20221222T075855Z-001/idscan_cows/Beauty', '/content/drive/MyDrive/The Data Company/ID Scan/Cows/idscan_cows-20221222T075855Z-001/idscan_cows/drakensberger', '/content/drive/MyDrive/The Data Company/ID Scan/Cows/idscan_cows-20221222T075855Z-001/idscan_cows/551015', '/content/drive/MyDrive/The Data Company/ID Scan/Cows/idscan_cows-20221222T075855Z-001/idscan_cows/228', '/content/drive/MyDrive/The Data Company/ID Scan/Cows/idscan_cows-20221222T075855Z-001/idscan_cows/bertha', '/content/drive/MyDrive/The Data Company/ID Scan/Cows/idscan_cows-20221222T075855Z-001/idscan_cows/220107', '/content/drive/MyDrive/The Data Company/ID Scan/Cows/idscan_cows-20221222T075855Z-001/idscan_cows/jersy', '/content/drive/MyDrive/The Data Company/ID Scan/Cows/idscan_cows-20221222T075855Z-001/idscan_cows/220100', '/content/drive/MyDrive/The Data Company/ID Scan/Cows/idscan_cows-20221222T075855Z-001/idscan_cows/21004', '/content/drive/MyDrive/The Data Company/ID Scan/Cows/idscan_cows-20221222T075855Z-001/idscan_cows/21018', '/content/drive/MyDrive/The Data Company/ID Scan/Cows/idscan_cows-20221222T075855Z-001/idscan_cows/20028', '/content/drive/MyDrive/The Data Company/ID Scan/Cows/idscan_cows-20221222T075855Z-001/idscan_cows/210100', '/content/drive/MyDrive/The Data Company/ID Scan/Cows/idscan_cows-20221222T075855Z-001/idscan_cows/20104', '/content/drive/MyDrive/The Data Company/ID Scan/Cows/idscan_cows-20221222T075855Z-001/idscan_cows/21002', '/content/drive/MyDrive/The Data Company/ID Scan/Cows/idscan_cows-20221222T075855Z-001/idscan_cows/20106', '/content/drive/MyDrive/The Data Company/ID Scan/Cows/idscan_cows-20221222T075855Z-001/idscan_cows/20030', '/content/drive/MyDrive/The Data Company/ID Scan/Cows/idscan_cows-20221222T075855Z-001/idscan_cows/210011', '/content/drive/MyDrive/The Data Company/ID Scan/Cows/idscan_cows-20221222T075855Z-001/idscan_cows/190106/551015', '/content/drive/MyDrive/The Data Company/ID Scan/Cows/idscan_cows-20221222T075855Z-001/idscan_cows/190106/1861', '/content/drive/MyDrive/The Data Company/ID Scan/Cows/idscan_cows-20221222T075855Z-001/idscan_cows/190106/1891', '/content/drive/MyDrive/The Data Company/ID Scan/Cows/idscan_cows-20221222T075855Z-001/idscan_cows/190106/19598', '/content/drive/MyDrive/The Data Company/ID Scan/Cows/ProdCows/train/test/2675d2ab-33ab-49dd-ac3a-40311696a5c0', '/content/drive/MyDrive/The Data Company/ID Scan/Cows/ProdCows/train/test/b1416b8b-7df2-4be0-b437-7a2abf24aa79', '/content/drive/MyDrive/The Data Company/ID Scan/Cows/ProdCows/train/test/f04e6e83-837d-47d1-a424-5b8d47e2872a', '/content/drive/MyDrive/The Data Company/ID Scan/Cows/ProdCows/train/test/1c5f1978-8679-46dd-82c9-bf25aa63dc26', '/content/drive/MyDrive/The Data Company/ID Scan/Cows/ProdCows/train/test/e031c1a8-6003-473e-939e-5c5b443dd30f', '/content/drive/MyDrive/The Data Company/ID Scan/Cows/ProdCows/train/test/3575af48-ff30-4241-ac07-11a83a2d1814', '/content/drive/MyDrive/The Data Company/ID Scan/Cows/ProdCows/train/test/ba324a14-d886-46a2-bcaa-751c0a9671ac', '/content/drive/MyDrive/The Data Company/ID Scan/Cows/ProdCows/train/test/7564a8d0-bc5a-4a4f-8664-ce70cd05401c', '/content/drive/MyDrive/The Data Company/ID Scan/Cows/ProdCows/train/test/341e7686-e5db-4362-a309-8308d25989fd', '/content/drive/MyDrive/The Data Company/ID Scan/Cows/ProdCows/train/test/308a66b3-942f-4894-90ad-ad399c33424a', '/content/drive/MyDrive/The Data Company/ID Scan/Cows/ProdCows/train/test/e6bc5558-559f-4eda-bf16-72f1ec7ca6e1', '/content/drive/MyDrive/The Data Company/ID Scan/Cows/ProdCows/train/test/a5c4b1a0-fb7b-4887-aadc-da2b671028b3', '/content/drive/MyDrive/The Data Company/ID Scan/Cows/ProdCows/train (1)/PROD Images', '/content/drive/MyDrive/The Data Company/ID Scan/Cows/ProdCows/test/PROD Verify', '/content/drive/MyDrive/The Data Company/ID Scan/Cows/ProdCows/test (1)', '/content/drive/MyDrive/The Data Company/ID Scan/Cows/ProdCows/train (2)', '/content/drive/MyDrive/The Data Company/ID Scan/Cows/Cows2/.ipynb_checkpoints']\n"
          ]
        }
      ]
    },
    {
      "cell_type": "code",
      "source": [
        "# Remove empty directories\n",
        "for ed in empty_directories_list:\n",
        "  os.rmdir(ed)"
      ],
      "metadata": {
        "id": "OSddLclUtlgs"
      },
      "execution_count": 9,
      "outputs": []
    }
  ]
}